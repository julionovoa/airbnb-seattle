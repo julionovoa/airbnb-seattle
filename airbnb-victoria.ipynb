{
 "cells": [
  {
   "cell_type": "markdown",
   "metadata": {},
   "source": [
    "# **Airbnb @ Victoria, British Columbia**\n",
    "### Analysis of the Airbnb dataset of Victoria, BC collected on September 29, 2021\n",
    "The website [Inside Airbnb](http://insideairbnb.com/victoria/) collects Airbnb listings data from several cities around the world. They say _Airbnb listings in most cities are entire homes, many of which are rented all year round - disrupting housing and communities._ Let's find out!"
   ]
  },
  {
   "cell_type": "code",
   "execution_count": null,
   "metadata": {},
   "outputs": [],
   "source": [
    "# import libraries\n",
    "import numpy as np\n",
    "import matplotlib.pyplot as plt\n",
    "import pandas as pd\n",
    "import seaborn as sns\n"
   ]
  },
  {
   "cell_type": "code",
   "execution_count": null,
   "metadata": {},
   "outputs": [],
   "source": [
    "# read the listings dataset\n",
    "listings = pd.read_csv('data/listings.csv')\n",
    "listings.head()"
   ]
  },
  {
   "cell_type": "code",
   "execution_count": null,
   "metadata": {},
   "outputs": [],
   "source": [
    "# verify the number of null values\n",
    "listings.isna().sum()"
   ]
  },
  {
   "cell_type": "code",
   "execution_count": null,
   "metadata": {},
   "outputs": [],
   "source": [
    "# number of listings per neighborhood group\n",
    "listings['neighbourhood_group'].value_counts().plot(kind='bar');"
   ]
  },
  {
   "cell_type": "code",
   "execution_count": null,
   "metadata": {},
   "outputs": [],
   "source": [
    "# average price-per-night by neighbouthoob group\n",
    "listings.groupby('neighbourhood_group')['price'].mean().sort_values(ascending=False).plot(kind='bar');"
   ]
  },
  {
   "cell_type": "code",
   "execution_count": null,
   "metadata": {},
   "outputs": [],
   "source": [
    "# correlation between variables using a heatmap\n",
    "corr = listings.corr()\n",
    "mask = np.zeros_like(corr)\n",
    "mask[np.triu_indices_from(mask)] = True\n",
    "with sns.axes_style('white'):\n",
    "    f, ax = plt.subplots(figsize=(7, 5))\n",
    "    ax = sns.heatmap(corr, mask=mask, vmax=0.3, square=True, cmap='YlGnBu');"
   ]
  },
  {
   "cell_type": "code",
   "execution_count": null,
   "metadata": {},
   "outputs": [],
   "source": [
    "# listings locations\n",
    "import folium\n",
    "# sns.scatterplot(x=listings['longitude'], y=listings['latitude']);\n",
    "\n",
    "# create folium map\n",
    "# Note: folium needs coordinates in the order Latitude, Longitude\n",
    "m = folium.Map(listings[['latitude', 'longitude']].mean().to_list(), tiles=\"Stamen Terrain\", zoom_start=9)\n",
    "\n",
    "# read GeoJSON\n",
    "nbhoods = 'data/neiborhoods.geosjon'\n",
    "\n",
    "# add all points\n",
    "for index, row in listings.iterrows():\n",
    "    folium.Marker(location=row[['latitude', 'longitude']].to_list()).add_to(m)\n",
    "\n",
    "m\n",
    "\n"
   ]
  },
  {
   "cell_type": "code",
   "execution_count": null,
   "metadata": {},
   "outputs": [],
   "source": [
    "for index, row in listings.iterrows():\n",
    "    print(row[['latitude', 'longitude']].to_list())"
   ]
  }
 ],
 "metadata": {
  "interpreter": {
   "hash": "7d4b484f41185b011ca8308b1605cad032101adb837c72215ea18d95626aedc2"
  },
  "kernelspec": {
   "display_name": "Python 3.9.7 64-bit ('geo': conda)",
   "language": "python",
   "name": "python3"
  },
  "language_info": {
   "codemirror_mode": {
    "name": "ipython",
    "version": 3
   },
   "file_extension": ".py",
   "mimetype": "text/x-python",
   "name": "python",
   "nbconvert_exporter": "python",
   "pygments_lexer": "ipython3",
   "version": "3.9.7"
  },
  "orig_nbformat": 4
 },
 "nbformat": 4,
 "nbformat_minor": 2
}
