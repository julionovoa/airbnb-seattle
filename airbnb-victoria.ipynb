{
 "cells": [
  {
   "cell_type": "markdown",
   "metadata": {},
   "source": [
    "# **Airbnb @ Victoria, British Columbia**\n",
    "### Analysis of the Airbnb dataset of Victoria, BC collected on September 29, 2021\n",
    "The website [Inside Airbnb](http://insideairbnb.com/victoria/) collects Airbnb listings from several cities around the world. They say _Airbnb listings in most cities are entire homes, many of which are rented all year round - disrupting housing and communities._ Let's find out!"
   ]
  },
  {
   "cell_type": "code",
   "execution_count": 1,
   "metadata": {},
   "outputs": [],
   "source": [
    "# import libraries\n",
    "import pandas as pd\n",
    "import folium"
   ]
  },
  {
   "cell_type": "code",
   "execution_count": 2,
   "metadata": {},
   "outputs": [
    {
     "data": {
      "text/html": [
       "<div>\n",
       "<style scoped>\n",
       "    .dataframe tbody tr th:only-of-type {\n",
       "        vertical-align: middle;\n",
       "    }\n",
       "\n",
       "    .dataframe tbody tr th {\n",
       "        vertical-align: top;\n",
       "    }\n",
       "\n",
       "    .dataframe thead th {\n",
       "        text-align: right;\n",
       "    }\n",
       "</style>\n",
       "<table border=\"1\" class=\"dataframe\">\n",
       "  <thead>\n",
       "    <tr style=\"text-align: right;\">\n",
       "      <th></th>\n",
       "      <th>id</th>\n",
       "      <th>name</th>\n",
       "      <th>host_id</th>\n",
       "      <th>host_name</th>\n",
       "      <th>neighbourhood_group</th>\n",
       "      <th>neighbourhood</th>\n",
       "      <th>latitude</th>\n",
       "      <th>longitude</th>\n",
       "      <th>room_type</th>\n",
       "      <th>price</th>\n",
       "      <th>minimum_nights</th>\n",
       "      <th>number_of_reviews</th>\n",
       "      <th>last_review</th>\n",
       "      <th>reviews_per_month</th>\n",
       "      <th>calculated_host_listings_count</th>\n",
       "      <th>availability_365</th>\n",
       "      <th>number_of_reviews_ltm</th>\n",
       "      <th>license</th>\n",
       "    </tr>\n",
       "  </thead>\n",
       "  <tbody>\n",
       "    <tr>\n",
       "      <th>0</th>\n",
       "      <td>1591</td>\n",
       "      <td>Garden Suite-King-Ensuite</td>\n",
       "      <td>1748</td>\n",
       "      <td>Jeff</td>\n",
       "      <td>Victoria</td>\n",
       "      <td>Rockland</td>\n",
       "      <td>48.42128</td>\n",
       "      <td>-123.33932</td>\n",
       "      <td>Private room</td>\n",
       "      <td>190</td>\n",
       "      <td>1</td>\n",
       "      <td>1</td>\n",
       "      <td>2021-09-13</td>\n",
       "      <td>1.00</td>\n",
       "      <td>8</td>\n",
       "      <td>178</td>\n",
       "      <td>1</td>\n",
       "      <td>NaN</td>\n",
       "    </tr>\n",
       "    <tr>\n",
       "      <th>1</th>\n",
       "      <td>19898</td>\n",
       "      <td>Duchess Suite</td>\n",
       "      <td>69729</td>\n",
       "      <td>Ryan</td>\n",
       "      <td>Victoria</td>\n",
       "      <td>Rockland</td>\n",
       "      <td>48.42515</td>\n",
       "      <td>-123.33977</td>\n",
       "      <td>Private room</td>\n",
       "      <td>279</td>\n",
       "      <td>2</td>\n",
       "      <td>0</td>\n",
       "      <td>NaN</td>\n",
       "      <td>NaN</td>\n",
       "      <td>1</td>\n",
       "      <td>0</td>\n",
       "      <td>0</td>\n",
       "      <td>NaN</td>\n",
       "    </tr>\n",
       "    <tr>\n",
       "      <th>2</th>\n",
       "      <td>41168</td>\n",
       "      <td>Burma Suite, Ocean Island Garden Suites</td>\n",
       "      <td>173169</td>\n",
       "      <td>Ocean Island Garden Suites</td>\n",
       "      <td>Victoria</td>\n",
       "      <td>James Bay</td>\n",
       "      <td>48.41333</td>\n",
       "      <td>-123.37065</td>\n",
       "      <td>Entire home/apt</td>\n",
       "      <td>127</td>\n",
       "      <td>1</td>\n",
       "      <td>41</td>\n",
       "      <td>2017-07-04</td>\n",
       "      <td>0.46</td>\n",
       "      <td>4</td>\n",
       "      <td>1</td>\n",
       "      <td>21</td>\n",
       "      <td>NaN</td>\n",
       "    </tr>\n",
       "    <tr>\n",
       "      <th>3</th>\n",
       "      <td>47421</td>\n",
       "      <td>Downtown by the Park</td>\n",
       "      <td>214666</td>\n",
       "      <td>Jenny</td>\n",
       "      <td>Victoria</td>\n",
       "      <td>Downtown</td>\n",
       "      <td>48.42106</td>\n",
       "      <td>-123.36340</td>\n",
       "      <td>Entire home/apt</td>\n",
       "      <td>100</td>\n",
       "      <td>4</td>\n",
       "      <td>59</td>\n",
       "      <td>2019-08-06</td>\n",
       "      <td>0.44</td>\n",
       "      <td>1</td>\n",
       "      <td>293</td>\n",
       "      <td>1</td>\n",
       "      <td>NaN</td>\n",
       "    </tr>\n",
       "    <tr>\n",
       "      <th>4</th>\n",
       "      <td>54423</td>\n",
       "      <td>Perfect Downtown Condo, free secure onsite Par...</td>\n",
       "      <td>254653</td>\n",
       "      <td>Pawlina And Martin</td>\n",
       "      <td>Victoria</td>\n",
       "      <td>Downtown</td>\n",
       "      <td>48.42151</td>\n",
       "      <td>-123.36383</td>\n",
       "      <td>Entire home/apt</td>\n",
       "      <td>92</td>\n",
       "      <td>30</td>\n",
       "      <td>62</td>\n",
       "      <td>2019-09-30</td>\n",
       "      <td>1.25</td>\n",
       "      <td>1</td>\n",
       "      <td>74</td>\n",
       "      <td>3</td>\n",
       "      <td>NaN</td>\n",
       "    </tr>\n",
       "  </tbody>\n",
       "</table>\n",
       "</div>"
      ],
      "text/plain": [
       "      id                                               name  host_id  \\\n",
       "0   1591                          Garden Suite-King-Ensuite     1748   \n",
       "1  19898                                      Duchess Suite    69729   \n",
       "2  41168            Burma Suite, Ocean Island Garden Suites   173169   \n",
       "3  47421                               Downtown by the Park   214666   \n",
       "4  54423  Perfect Downtown Condo, free secure onsite Par...   254653   \n",
       "\n",
       "                    host_name neighbourhood_group neighbourhood  latitude  \\\n",
       "0                        Jeff            Victoria      Rockland  48.42128   \n",
       "1                        Ryan            Victoria      Rockland  48.42515   \n",
       "2  Ocean Island Garden Suites            Victoria     James Bay  48.41333   \n",
       "3                       Jenny            Victoria      Downtown  48.42106   \n",
       "4          Pawlina And Martin            Victoria      Downtown  48.42151   \n",
       "\n",
       "   longitude        room_type  price  minimum_nights  number_of_reviews  \\\n",
       "0 -123.33932     Private room    190               1                  1   \n",
       "1 -123.33977     Private room    279               2                  0   \n",
       "2 -123.37065  Entire home/apt    127               1                 41   \n",
       "3 -123.36340  Entire home/apt    100               4                 59   \n",
       "4 -123.36383  Entire home/apt     92              30                 62   \n",
       "\n",
       "  last_review  reviews_per_month  calculated_host_listings_count  \\\n",
       "0  2021-09-13               1.00                               8   \n",
       "1         NaN                NaN                               1   \n",
       "2  2017-07-04               0.46                               4   \n",
       "3  2019-08-06               0.44                               1   \n",
       "4  2019-09-30               1.25                               1   \n",
       "\n",
       "   availability_365  number_of_reviews_ltm  license  \n",
       "0               178                      1      NaN  \n",
       "1                 0                      0      NaN  \n",
       "2                 1                     21      NaN  \n",
       "3               293                      1      NaN  \n",
       "4                74                      3      NaN  "
      ]
     },
     "execution_count": 2,
     "metadata": {},
     "output_type": "execute_result"
    }
   ],
   "source": [
    "# read the listings dataset\n",
    "listings = pd.read_csv('data/listings.csv')\n",
    "listings.head()"
   ]
  },
  {
   "cell_type": "code",
   "execution_count": 3,
   "metadata": {},
   "outputs": [
    {
     "data": {
      "text/plain": [
       "id                                   0\n",
       "name                                 1\n",
       "host_id                              0\n",
       "host_name                            1\n",
       "neighbourhood_group                  0\n",
       "neighbourhood                        0\n",
       "latitude                             0\n",
       "longitude                            0\n",
       "room_type                            0\n",
       "price                                0\n",
       "minimum_nights                       0\n",
       "number_of_reviews                    0\n",
       "last_review                        291\n",
       "reviews_per_month                  291\n",
       "calculated_host_listings_count       0\n",
       "availability_365                     0\n",
       "number_of_reviews_ltm                0\n",
       "license                           3095\n",
       "dtype: int64"
      ]
     },
     "execution_count": 3,
     "metadata": {},
     "output_type": "execute_result"
    }
   ],
   "source": [
    "# verify the number of null values\n",
    "listings.isna().sum()"
   ]
  },
  {
   "cell_type": "code",
   "execution_count": 4,
   "metadata": {},
   "outputs": [
    {
     "data": {
      "image/png": "[encoded data removed]",
      "text/plain": [
       "<Figure size 432x288 with 1 Axes>"
      ]
     },
     "metadata": {
      "needs_background": "light"
     },
     "output_type": "display_data"
    }
   ],
   "source": [
    "# number of listings per neighborhood group\n",
    "listings['neighbourhood_group'].value_counts().plot(kind='bar');"
   ]
  },
  {
   "cell_type": "code",
   "execution_count": 5,
   "metadata": {},
   "outputs": [
    {
     "data": {
      "image/png": "[encoded data removed]",
      "text/plain": [
       "<Figure size 432x288 with 1 Axes>"
      ]
     },
     "metadata": {
      "needs_background": "light"
     },
     "output_type": "display_data"
    }
   ],
   "source": [
    "# average price-per-night by neighbouthoob group\n",
    "listings.groupby('neighbourhood_group')['price'].mean().sort_values(ascending=False).plot(kind='bar');"
   ]
  }
 ],
 "metadata": {
  "interpreter": {
   "hash": "7d4b484f41185b011ca8308b1605cad032101adb837c72215ea18d95626aedc2"
  },
  "kernelspec": {
   "display_name": "Python 3.9.7 64-bit ('geo': conda)",
   "language": "python",
   "name": "python3"
  },
  "language_info": {
   "codemirror_mode": {
    "name": "ipython",
    "version": 3
   },
   "file_extension": ".py",
   "mimetype": "text/x-python",
   "name": "python",
   "nbconvert_exporter": "python",
   "pygments_lexer": "ipython3",
   "version": "3.9.7"
  },
  "orig_nbformat": 4
 },
 "nbformat": 4,
 "nbformat_minor": 2
}
