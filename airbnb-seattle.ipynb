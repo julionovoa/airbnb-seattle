{
 "cells": [
  {
   "cell_type": "markdown",
   "metadata": {},
   "source": [
    "# Giving geospatial context to a dataset"
   ]
  },
  {
   "cell_type": "markdown",
   "metadata": {},
   "source": [
    "This a short analysis to illustrate if the distance to an art galley, museum or other cultural center might influence the price you pay per night for your Airbnb. The Airbnb dataset used for this exercise was downloaded from the website [Inside Airbnb](http://insideairbnb.com/) and the inventory of cultural sites was downloaded from [Seattle's Open Data Portal](https://data.seattle.gov/). Using these publicly accessible datasets we will show how to give some spatial context to a dataset while trying to answer the following questions:\n",
    "\n",
    "1. Which are the most expensive neighborhoods in Seattle and what is their average distance to cultural sites?\n",
    "2. Is there a correlation between price per night and the proximity to city's cultural sites?\n",
    "3. Which are the most influential variables for predicting price per night?"
   ]
  },
  {
   "cell_type": "markdown",
   "metadata": {},
   "source": [
    "## Data exploration and manipulation"
   ]
  },
  {
   "cell_type": "code",
   "execution_count": null,
   "metadata": {},
   "outputs": [],
   "source": [
    "# import libraries\n",
    "import numpy as np\n",
    "import matplotlib.pyplot as plt\n",
    "import pandas as pd\n",
    "import geopandas as gpd\n",
    "import seaborn as sns\n",
    "import plotly.express as px\n",
    "import matplotlib.pyplot as plt\n"
   ]
  },
  {
   "cell_type": "code",
   "execution_count": null,
   "metadata": {},
   "outputs": [],
   "source": [
    "# Import the Airbnb dataset\n",
    "listings = pd.read_csv('data/listings.csv')\n",
    "# listings.head(3)"
   ]
  },
  {
   "cell_type": "code",
   "execution_count": null,
   "metadata": {},
   "outputs": [],
   "source": [
    "# Data cleaning\n",
    "# drop all rows with nulls in columns ['price', 'latitude', 'longitude']\n",
    "listings.dropna(subset=['price', 'latitude', 'longitude'], inplace=True)\n",
    "# clean up 'price' column\n",
    "tmp_price = listings['price'].str.split('$', expand=True)\n",
    "listings['price_cleansed'] = tmp_price[1].str.replace(',', '').astype('float')"
   ]
  },
  {
   "cell_type": "code",
   "execution_count": null,
   "metadata": {},
   "outputs": [],
   "source": [
    "# Import the cultural sites dataset\n",
    "cultural = pd.read_csv('data/Seattle_Cultural_Space_Inventory.csv')\n",
    "# cultural.head(3)"
   ]
  },
  {
   "cell_type": "code",
   "execution_count": null,
   "metadata": {},
   "outputs": [],
   "source": [
    "# Data cleaning\n",
    "# drop all rows with null in columns ['Latitude', 'Longitude']\n",
    "cultural.dropna(subset=['Latitude', 'Longitude'], inplace=True)"
   ]
  },
  {
   "cell_type": "markdown",
   "metadata": {},
   "source": [
    "## Create geospatial variable"
   ]
  },
  {
   "cell_type": "code",
   "execution_count": null,
   "metadata": {},
   "outputs": [],
   "source": [
    "# Create geodataframes and reproject them to UTM Zone 10N\n",
    "gpd_airbnb = gpd.GeoDataFrame(listings, geometry=gpd.points_from_xy(listings.longitude, listings.latitude), crs='EPSG:4326').to_crs('EPSG:32610')\n",
    "gpd_cultural = gpd.GeoDataFrame(cultural, geometry=gpd.points_from_xy(cultural.Longitude, cultural.Latitude), crs='EPSG:4326').to_crs('EPSG:32610')"
   ]
  },
  {
   "cell_type": "code",
   "execution_count": null,
   "metadata": {},
   "outputs": [],
   "source": [
    "# Join both geodataframes based on the closest cultural point\n",
    "gpd_airbnb_cultural = gpd_airbnb.sjoin_nearest(gpd_cultural, distance_col=\"distance\")\n",
    "gpd_airbnb_cultural[['price_cleansed', 'distance']]"
   ]
  },
  {
   "cell_type": "code",
   "execution_count": null,
   "metadata": {},
   "outputs": [],
   "source": [
    "# Visualization\n",
    "base = gpd_airbnb.plot(markersize=2, color=\"blue\", figsize=(10,8))\n",
    "gpd_cultural.plot(ax=base, markersize=2, color='red');"
   ]
  },
  {
   "cell_type": "markdown",
   "metadata": {},
   "source": [
    "## Which are the most expensive neighborhoods in Seattle and what is their average distance to cultural sites?"
   ]
  },
  {
   "cell_type": "code",
   "execution_count": null,
   "metadata": {},
   "outputs": [],
   "source": [
    "# Number of cultural sites by neighborhood\n",
    "print(gpd_airbnb_cultural['neighbourhood_group_cleansed'].value_counts()[:3])\n",
    "gpd_airbnb_cultural['neighbourhood_group_cleansed'].value_counts().plot.bar(figsize=(10,8), xlabel='', ylabel='# of cultural sites');"
   ]
  },
  {
   "cell_type": "code",
   "execution_count": null,
   "metadata": {},
   "outputs": [],
   "source": [
    "# Average price by neighbouthoob\n",
    "print(gpd_airbnb_cultural.groupby('neighbourhood_group_cleansed')['price_cleansed'].mean().sort_values(ascending=False)[:3])\n",
    "gpd_airbnb_cultural.groupby('neighbourhood_group_cleansed')['price_cleansed'].mean().sort_values(ascending=False).plot.bar(figsize=(10,8), xlabel='', ylabel='Price per night (USD)');"
   ]
  },
  {
   "cell_type": "code",
   "execution_count": null,
   "metadata": {},
   "outputs": [],
   "source": [
    "# Average distance to cultural sites by neighbourhoob\n",
    "print(gpd_airbnb_cultural.groupby('neighbourhood_group_cleansed')['distance'].mean().sort_values()[:3])\n",
    "gpd_airbnb_cultural.groupby('neighbourhood_group_cleansed')['distance'].mean().sort_values().plot.bar(figsize=(10,8), xlabel='', ylabel='Distance to cultural sites (meters)');"
   ]
  },
  {
   "cell_type": "markdown",
   "metadata": {},
   "source": [
    "## Is there a correlation between price per night and the proximity to city's cultural sites? "
   ]
  },
  {
   "cell_type": "code",
   "execution_count": null,
   "metadata": {},
   "outputs": [],
   "source": [
    "# Scatter plot of price and distance to cultural sites\n",
    "gpd_airbnb_cultural.plot.scatter('distance', 'price_cleansed', figsize=(10,8),xlabel='Distance to cultural sites (meters)', ylabel='Price per night (USD)');"
   ]
  },
  {
   "cell_type": "code",
   "execution_count": null,
   "metadata": {},
   "outputs": [],
   "source": [
    "# correlation between price and distance (<1000m) to cultural sites\n",
    "# gpd_airbnb_cultural[gpd_airbnb_cultural['distance'] < 1000][['price_cleansed', 'distance']].corr()\n",
    "# correlation between price and distance to cultural sites\n",
    "gpd_airbnb_cultural[['price_cleansed', 'distance']].corr()"
   ]
  },
  {
   "cell_type": "code",
   "execution_count": null,
   "metadata": {},
   "outputs": [],
   "source": [
    "# correlation between variables using a heatmap\n",
    "corr = gpd_airbnb_cultural.corr()\n",
    "mask = np.zeros_like(corr)\n",
    "mask[np.triu_indices_from(mask)] = True\n",
    "with sns.axes_style('white'):\n",
    "    f, ax = plt.subplots(figsize=(12, 10))\n",
    "    ax = sns.heatmap(corr, mask=mask, vmax=0.3, square=True, cmap='YlGnBu');"
   ]
  },
  {
   "cell_type": "code",
   "execution_count": null,
   "metadata": {},
   "outputs": [],
   "source": [
    "gpd_airbnb_cultural.groupby('accommodates')['price_cleansed'].mean().plot(kind='bar');"
   ]
  },
  {
   "cell_type": "code",
   "execution_count": null,
   "metadata": {},
   "outputs": [],
   "source": [
    "gpd_airbnb_cultural.groupby('bathrooms')['price_cleansed'].mean().plot(kind='bar');"
   ]
  },
  {
   "cell_type": "markdown",
   "metadata": {},
   "source": [
    "## Which are the most influential variables for predicting price per night?"
   ]
  },
  {
   "cell_type": "code",
   "execution_count": null,
   "metadata": {},
   "outputs": [],
   "source": [
    "# Define variables of interest based on the data exploration and cleaning\n",
    "variables_of_interest = [\n",
    "    'neighbourhood_group_cleansed',\n",
    "    'latitude',\n",
    "    'longitude',\n",
    "    'property_type',\n",
    "    'room_type',\n",
    "    'accommodates',\n",
    "    'bathrooms',\n",
    "    'bedrooms',\n",
    "    'beds',\n",
    "    'amenities',\n",
    "    'price_cleansed',\n",
    "    'availability_30',\n",
    "    'availability_60',\n",
    "    'availability_90',\n",
    "    'availability_365',\n",
    "    'number_of_reviews',\n",
    "    'review_scores_rating',\n",
    "    'cancellation_policy',\n",
    "    'reviews_per_month']"
   ]
  },
  {
   "cell_type": "code",
   "execution_count": null,
   "metadata": {},
   "outputs": [],
   "source": []
  }
 ],
 "metadata": {
  "interpreter": {
   "hash": "7d4b484f41185b011ca8308b1605cad032101adb837c72215ea18d95626aedc2"
  },
  "kernelspec": {
   "display_name": "Python 3.9.7 64-bit ('geo': conda)",
   "language": "python",
   "name": "python3"
  },
  "language_info": {
   "codemirror_mode": {
    "name": "ipython",
    "version": 3
   },
   "file_extension": ".py",
   "mimetype": "text/x-python",
   "name": "python",
   "nbconvert_exporter": "python",
   "pygments_lexer": "ipython3",
   "version": "3.9.7"
  },
  "orig_nbformat": 4
 },
 "nbformat": 4,
 "nbformat_minor": 2
}
